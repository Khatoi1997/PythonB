{
  "nbformat": 4,
  "nbformat_minor": 0,
  "metadata": {
    "colab": {
      "provenance": [],
      "collapsed_sections": []
    },
    "kernelspec": {
      "name": "python3",
      "display_name": "Python 3"
    },
    "language_info": {
      "name": "python"
    }
  },
  "cells": [
    {
      "cell_type": "markdown",
      "source": [
        "1.\tWrite a Python program to print \"Hello Python\"?\n",
        "\n"
      ],
      "metadata": {
        "id": "7xuVRtAi19Bf"
      }
    },
    {
      "cell_type": "code",
      "execution_count": 1,
      "metadata": {
        "colab": {
          "base_uri": "https://localhost:8080/"
        },
        "id": "1CgTGIYJ11o0",
        "outputId": "26a78772-9db5-493e-fde1-92605eb4c5b5"
      },
      "outputs": [
        {
          "output_type": "stream",
          "name": "stdout",
          "text": [
            "Hello Python\n"
          ]
        }
      ],
      "source": [
        "#Answer:\n",
        "print(\"Hello Python\")"
      ]
    },
    {
      "cell_type": "markdown",
      "source": [
        "2.\tWrite a Python program to do arithmetical operations addition and division.?\n"
      ],
      "metadata": {
        "id": "_yHus8wt16q0"
      }
    },
    {
      "cell_type": "code",
      "source": [
        "a=25\n",
        "b=5\n",
        "print(f\"Sum of {a} and {b} is {a+b}\")\n",
        "print(f\"Division of {a} and {b} is {a/b}\")"
      ],
      "metadata": {
        "colab": {
          "base_uri": "https://localhost:8080/"
        },
        "id": "q-6byeCJ2IcU",
        "outputId": "2ac5ad57-3a30-413e-97c5-21ad47435c1b"
      },
      "execution_count": 2,
      "outputs": [
        {
          "output_type": "stream",
          "name": "stdout",
          "text": [
            "Sum of 25 and 5 is 30\n",
            "Division of 25 and 5 is 5.0\n"
          ]
        }
      ]
    },
    {
      "cell_type": "markdown",
      "source": [
        "3.\tWrite a Python program to find the area of a triangle?\n"
      ],
      "metadata": {
        "id": "QTdSpjFe2CLl"
      }
    },
    {
      "cell_type": "code",
      "source": [
        "a=3\n",
        "b=4\n",
        "c=5\n",
        "s=(a+b+c)/2\n",
        "Area=(s*(s-a)*(s-b)*(s-c))**(1/2)\n",
        "print(f\"The area of triangle is {Area}\")"
      ],
      "metadata": {
        "colab": {
          "base_uri": "https://localhost:8080/"
        },
        "id": "qL1_zmgy2JLb",
        "outputId": "ede31986-be37-42f6-b22c-5903a5bd4a88"
      },
      "execution_count": 3,
      "outputs": [
        {
          "output_type": "stream",
          "name": "stdout",
          "text": [
            "The area of triangle is 6.0\n"
          ]
        }
      ]
    },
    {
      "cell_type": "markdown",
      "source": [
        "4.\tWrite a Python program to swap two variables?\n"
      ],
      "metadata": {
        "id": "wsQFR89U2ET1"
      }
    },
    {
      "cell_type": "code",
      "source": [
        "a=20\n",
        "b=30\n",
        "a=a+b\n",
        "b=a-b\n",
        "a=a-b\n",
        "print(f\"a={a}, b={b}\")"
      ],
      "metadata": {
        "colab": {
          "base_uri": "https://localhost:8080/"
        },
        "id": "bnVgH86q2J0L",
        "outputId": "35d3f405-e272-4a71-9ba3-8974eb059841"
      },
      "execution_count": 4,
      "outputs": [
        {
          "output_type": "stream",
          "name": "stdout",
          "text": [
            "a=30, b=20\n"
          ]
        }
      ]
    },
    {
      "cell_type": "markdown",
      "source": [
        "5.\tWrite a Python program to generate a random number?"
      ],
      "metadata": {
        "id": "536XIeNF2GJY"
      }
    },
    {
      "cell_type": "code",
      "source": [
        "import random  \n",
        "n = random.randint(1,100)  \n",
        "print(n) "
      ],
      "metadata": {
        "colab": {
          "base_uri": "https://localhost:8080/"
        },
        "id": "nExDsS922Kdw",
        "outputId": "5232920f-63e0-44a1-a715-03f5e77ca12d"
      },
      "execution_count": 8,
      "outputs": [
        {
          "output_type": "stream",
          "name": "stdout",
          "text": [
            "53\n"
          ]
        }
      ]
    }
  ]
}