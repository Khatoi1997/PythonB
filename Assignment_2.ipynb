{
  "nbformat": 4,
  "nbformat_minor": 0,
  "metadata": {
    "colab": {
      "provenance": [],
      "collapsed_sections": []
    },
    "kernelspec": {
      "name": "python3",
      "display_name": "Python 3"
    },
    "language_info": {
      "name": "python"
    }
  },
  "cells": [
    {
      "cell_type": "markdown",
      "source": [
        "1.What are the two values of the Boolean data type? How do you write them?\n",
        "- Answer:\n",
        "- Two values of boolean data type are \"True\" and \"False\".\n",
        "- We use bool() function to write or convert a value to boolean type. "
      ],
      "metadata": {
        "id": "2y4PzQuhnAkJ"
      }
    },
    {
      "cell_type": "markdown",
      "source": [
        "2.What are the three different types of Boolean operators?\n",
        "- Answer:\n",
        "- Three types of boolean operators are \"And\" , \"Or\" , \"Not\"."
      ],
      "metadata": {
        "id": "sb3zIvF7oHOa"
      }
    },
    {
      "cell_type": "markdown",
      "source": [
        "3.Make a list of each Boolean operator's truth tables (i.e. every possible combination of Boolean values for the operator and what it evaluate )."
      ],
      "metadata": {
        "id": "JI3Q9sRgod2u"
      }
    },
    {
      "cell_type": "markdown",
      "source": [
        "- AND:\n",
        "    - A  B  | Result\n",
        "    - 0  0  |   0\n",
        "    - 0  1  |   0\n",
        "    - 1  0  |   0\n",
        "    - 1  1  |   1\n",
        "\n",
        "- OR:\n",
        "    - A  B  | Result\n",
        "    - 0  0  |   0\n",
        "    - 0  1  |   1\n",
        "    - 1  0  |   1\n",
        "    - 1  1  |   1\n",
        "\n",
        "- NOT:\n",
        "    - A  | Result\n",
        "    - 0  |   1\n",
        "    - 1  |   0\n"
      ],
      "metadata": {
        "id": "-bqW_HqHoo5U"
      }
    },
    {
      "cell_type": "markdown",
      "source": [
        "4. What are the values of the following expressions?\n",
        "- Answer:\n",
        "- (5 > 4) and (3 == 5) = False\n",
        "- not (5 > 4) = False\n",
        "- (5 > 4) or (3 == 5) = True\n",
        "- not ((5 > 4) or (3 == 5)) = False\n",
        "- (True and True) and (True == False) = False\n",
        "- (not False) or (not True) = True\n"
      ],
      "metadata": {
        "id": "-6W60gQ1p6Z1"
      }
    },
    {
      "cell_type": "markdown",
      "source": [
        "5. What are the six comparison operators?\n",
        "- Answer:\n",
        "- less than (<)\n",
        "- less than or equal to (<=) \n",
        "- greater than (>)\n",
        "- greater than or equal (>=)\n",
        "- equal to (==)\n",
        "- not equal to (!=)"
      ],
      "metadata": {
        "id": "UsTAmQU2pxMa"
      }
    },
    {
      "cell_type": "markdown",
      "source": [
        "6. How do you tell the difference between the equal to and assignment operators?Describe a condition and when you would use one.\n",
        "- Answer:\n",
        "- The difference between Assignment(=) and Equal to (==) operators. The “=” is an assignment operator is used to assign the value to the variable. The '==' operator checks whether the two given operands are equal or not."
      ],
      "metadata": {
        "id": "I3UduNKlrzzq"
      }
    },
    {
      "cell_type": "markdown",
      "source": [
        "7.Identify the three blocks in this code:\n"
      ],
      "metadata": {
        "id": "0tJdqBgBshnK"
      }
    },
    {
      "cell_type": "code",
      "source": [
        "#Answer:\n",
        "spam = 0\n",
        "# block1:\n",
        "if spam == 10:\n",
        "  print('eggs')\n",
        "#block2:\n",
        "if spam > 5:\n",
        "  print('bacon')\n",
        "#block3:\n",
        "else:\n",
        "  print('ham')\n",
        "print('spam')\n",
        "print('spam')"
      ],
      "metadata": {
        "colab": {
          "base_uri": "https://localhost:8080/"
        },
        "id": "taV9G_1As5aB",
        "outputId": "72ed60c1-ebae-4f97-e595-1c6a20089a05"
      },
      "execution_count": 2,
      "outputs": [
        {
          "output_type": "stream",
          "name": "stdout",
          "text": [
            "ham\n",
            "spam\n",
            "spam\n"
          ]
        }
      ]
    },
    {
      "cell_type": "markdown",
      "source": [
        "8. Write code that prints Hello if 1 is stored in spam, prints Howdy if 2 is stored in spam, and prints Greetings! if anything else is stored in spam."
      ],
      "metadata": {
        "id": "Fggo_8B_txte"
      }
    },
    {
      "cell_type": "code",
      "source": [
        "#Answer:\n",
        "spam=int(input(\"Enter the value of spam \\n\"))\n",
        "if spam==1:\n",
        "  print(\"Hello\")\n",
        "elif spam==2:\n",
        "  print(\"Howdy\")\n",
        "else:\n",
        "  print(\"Greetings!\")"
      ],
      "metadata": {
        "colab": {
          "base_uri": "https://localhost:8080/"
        },
        "id": "MN_YYKxYt7V4",
        "outputId": "cf1059b1-7183-414f-9046-2ffe4cf17e45"
      },
      "execution_count": 8,
      "outputs": [
        {
          "output_type": "stream",
          "name": "stdout",
          "text": [
            "Enter the value of spam \n",
            "2\n",
            "Howdy\n"
          ]
        }
      ]
    },
    {
      "cell_type": "markdown",
      "source": [
        "9.If your programme is stuck in an endless loop, what keys you’ll press?\n",
        "- Answer:\n",
        "- We can stop an infinite loop with CTRL + C ."
      ],
      "metadata": {
        "id": "rNECjvWPu2t7"
      }
    },
    {
      "cell_type": "markdown",
      "source": [
        "10. How can you tell the difference between break and continue?\n",
        "- Answer:\n",
        "The difference between is that when \"break\" keyword is used, it terminates the execution of the current loop and passes the control over the next loop or main body, whereas when \"continue\" keyword is used, it skips the current iteration and executes the very next iteration in the loop."
      ],
      "metadata": {
        "id": "FJ3JjGRvu8N6"
      }
    },
    {
      "cell_type": "markdown",
      "source": [
        "11. In a for loop, what is the difference between range(10), range(0, 10), and range(0, 10, 1)?\n",
        "- Answer:\n",
        "- range(10): We will get a series of numbers that starts at 0 and includes every whole number up to 9.\n",
        "- range(0,10) : We will get a series of numbers from 0 to 9.\n",
        "- range(0, 10, 1) : we will get a series of number from 0 to 9 with difference=1 between each next element."
      ],
      "metadata": {
        "id": "6BrfNR5mvqdg"
      }
    },
    {
      "cell_type": "markdown",
      "source": [
        "12. Write a short program that prints the numbers 1 to 10 using a for loop. Then write an equivalent program that prints the numbers 1 to 10 using a while loop."
      ],
      "metadata": {
        "id": "8tC0jQrvw2NZ"
      }
    },
    {
      "cell_type": "code",
      "source": [
        "# Answer using for loop:\n",
        "for i in range (1,11):\n",
        "  print(i)"
      ],
      "metadata": {
        "colab": {
          "base_uri": "https://localhost:8080/"
        },
        "id": "bsCMSp55xDmH",
        "outputId": "a6aa5239-5bcd-4267-9adf-c90a2cf1a496"
      },
      "execution_count": 9,
      "outputs": [
        {
          "output_type": "stream",
          "name": "stdout",
          "text": [
            "1\n",
            "2\n",
            "3\n",
            "4\n",
            "5\n",
            "6\n",
            "7\n",
            "8\n",
            "9\n",
            "10\n"
          ]
        }
      ]
    },
    {
      "cell_type": "code",
      "source": [
        "# Answer using while loop:\n",
        "i=1\n",
        "while i<=10:\n",
        "  print(i)\n",
        "  i+=1"
      ],
      "metadata": {
        "colab": {
          "base_uri": "https://localhost:8080/"
        },
        "id": "QbSoCx38xYV5",
        "outputId": "205ecbdb-266b-41a8-9059-8990ec8f8a91"
      },
      "execution_count": 12,
      "outputs": [
        {
          "output_type": "stream",
          "name": "stdout",
          "text": [
            "1\n",
            "2\n",
            "3\n",
            "4\n",
            "5\n",
            "6\n",
            "7\n",
            "8\n",
            "9\n",
            "10\n"
          ]
        }
      ]
    },
    {
      "cell_type": "markdown",
      "source": [
        "13. If you had a function named bacon() inside a module named spam, how would you call it after importing spam?\n",
        "- Answer:\n",
        "- The function can be called with spam.bacon()."
      ],
      "metadata": {
        "id": "QM1f3Sdgx6De"
      }
    }
  ]
}