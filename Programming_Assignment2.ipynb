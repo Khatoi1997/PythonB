{
  "nbformat": 4,
  "nbformat_minor": 0,
  "metadata": {
    "colab": {
      "provenance": [],
      "collapsed_sections": []
    },
    "kernelspec": {
      "name": "python3",
      "display_name": "Python 3"
    },
    "language_info": {
      "name": "python"
    }
  },
  "cells": [
    {
      "cell_type": "markdown",
      "source": [
        "1.\tWrite a Python program to convert kilometers to miles?"
      ],
      "metadata": {
        "id": "ABtvOhz88-FI"
      }
    },
    {
      "cell_type": "code",
      "execution_count": 2,
      "metadata": {
        "colab": {
          "base_uri": "https://localhost:8080/"
        },
        "id": "e8znLfTU8q2D",
        "outputId": "6117359c-58b2-4a01-efad-08c4a7d30dae"
      },
      "outputs": [
        {
          "output_type": "stream",
          "name": "stdout",
          "text": [
            "Enter the kilometers : 100\n",
            "100.0 is 62.137 miles\n"
          ]
        }
      ],
      "source": [
        "km=float(input(\"Enter the kilometers : \"))\n",
        "print(f\"{km}kilometer is {km*0.62137} miles\")"
      ]
    },
    {
      "cell_type": "markdown",
      "source": [
        "2.\tWrite a Python program to convert Celsius to Fahrenheit?\n",
        "\n"
      ],
      "metadata": {
        "id": "LvvIyxLx8zM_"
      }
    },
    {
      "cell_type": "code",
      "source": [
        "temp_in_celsius = float (input(\"Temperature value in degree Celsius: \" ))  \n",
        "temp_in_Fahrenheit = (temp_in_celsius * 9/5) + 32    \n",
        "print (f\"{temp_in_celsius} degree celsius is {temp_in_Fahrenheit} degree farenheit\")  "
      ],
      "metadata": {
        "colab": {
          "base_uri": "https://localhost:8080/"
        },
        "id": "mazizIUq8_0r",
        "outputId": "9ab1f33e-4b6b-447d-83c6-b71968e89fcd"
      },
      "execution_count": 3,
      "outputs": [
        {
          "output_type": "stream",
          "name": "stdout",
          "text": [
            "Temperature value in degree Celsius: 20\n",
            "20.0 degree celsius is 68.0 degree farenheit\n"
          ]
        }
      ]
    },
    {
      "cell_type": "markdown",
      "source": [
        "3.\tWrite a Python program to display calendar?\n"
      ],
      "metadata": {
        "id": "4GQ-eaVe81hX"
      }
    },
    {
      "cell_type": "code",
      "source": [
        "import calendar   \n",
        "calendar_year= int(input(\"Enter year: \"))  \n",
        "calendar_month= int(input(\"Enter month: \"))  \n",
        "print(calendar.month(calendar_year,calendar_month))  "
      ],
      "metadata": {
        "colab": {
          "base_uri": "https://localhost:8080/"
        },
        "id": "9mrg4Xue9Adx",
        "outputId": "50361565-9749-4173-fd93-82310551272f"
      },
      "execution_count": 4,
      "outputs": [
        {
          "output_type": "stream",
          "name": "stdout",
          "text": [
            "Enter year: 2022\n",
            "Enter month: 10\n",
            "    October 2022\n",
            "Mo Tu We Th Fr Sa Su\n",
            "                1  2\n",
            " 3  4  5  6  7  8  9\n",
            "10 11 12 13 14 15 16\n",
            "17 18 19 20 21 22 23\n",
            "24 25 26 27 28 29 30\n",
            "31\n",
            "\n"
          ]
        }
      ]
    },
    {
      "cell_type": "markdown",
      "source": [
        "4.\tWrite a Python program to solve quadratic equation?\n"
      ],
      "metadata": {
        "id": "yoW8iDNJ83Ud"
      }
    },
    {
      "cell_type": "code",
      "source": [
        "a = float(input(\"Enter a: \"))  \n",
        "b = float(input(\"Enter b: \"))  \n",
        "c = float(input(\"Enter c: \"))    \n",
        "d = (b**2)-(4*a*c)  \n",
        "solution_1 = (-b-d**(1/2))/(2*a)  \n",
        "solution_2 = (-b+d**(1/2))/(2*a)  \n",
        "print(f\"The solution are {solution_1} and {solution_2}\")   "
      ],
      "metadata": {
        "colab": {
          "base_uri": "https://localhost:8080/"
        },
        "id": "RujpNL9V9BHc",
        "outputId": "fbe571b9-25ec-4877-ec2f-272d02b6ca81"
      },
      "execution_count": 7,
      "outputs": [
        {
          "output_type": "stream",
          "name": "stdout",
          "text": [
            "Enter a: 1\n",
            "Enter b: 2\n",
            "Enter c: 1\n",
            "The solution are -1.0 and -1.0\n"
          ]
        }
      ]
    },
    {
      "cell_type": "markdown",
      "source": [
        "5.\tWrite a Python program to swap two variables without temp variable?"
      ],
      "metadata": {
        "id": "moQ7RgVp85kX"
      }
    },
    {
      "cell_type": "code",
      "source": [
        "variable_1=20\n",
        "variable_2=30\n",
        "variable_1=variable_1+variable_2\n",
        "variable_2=variable_1-variable_2\n",
        "variable_1=variable_1-variable_2\n",
        "print(f\"variable_1={variable_1}, variable_2={variable_2}\")"
      ],
      "metadata": {
        "colab": {
          "base_uri": "https://localhost:8080/"
        },
        "id": "6XfJpmNF9CEI",
        "outputId": "d3da756c-d4b4-44f4-bc1f-f3afdc54611a"
      },
      "execution_count": 9,
      "outputs": [
        {
          "output_type": "stream",
          "name": "stdout",
          "text": [
            "variable_1=30, variable_2=20\n"
          ]
        }
      ]
    }
  ]
}