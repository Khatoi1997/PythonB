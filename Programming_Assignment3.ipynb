{
  "nbformat": 4,
  "nbformat_minor": 0,
  "metadata": {
    "colab": {
      "provenance": [],
      "collapsed_sections": []
    },
    "kernelspec": {
      "name": "python3",
      "display_name": "Python 3"
    },
    "language_info": {
      "name": "python"
    }
  },
  "cells": [
    {
      "cell_type": "markdown",
      "source": [
        "1.\tWrite a Python Program to Check if a Number is Positive, Negative or Zero?\n"
      ],
      "metadata": {
        "id": "sv154HFgDaOI"
      }
    },
    {
      "cell_type": "code",
      "execution_count": null,
      "metadata": {
        "colab": {
          "base_uri": "https://localhost:8080/"
        },
        "id": "gVMdBlVyDU5F",
        "outputId": "3ba17197-a3b3-4555-9e71-32efb297317f"
      },
      "outputs": [
        {
          "output_type": "stream",
          "name": "stdout",
          "text": [
            "Enter the number : -4\n",
            "-4 is negative\n"
          ]
        }
      ],
      "source": [
        "number=int(input(\"Enter the number : \"))\n",
        "if number==0:\n",
        "  print(f\"{number} is zero\")\n",
        "elif number>0:\n",
        "  print(f\"{number} is positive\")\n",
        "else:\n",
        "  print(f\"{number} is negative\")"
      ]
    },
    {
      "cell_type": "markdown",
      "source": [
        "2. Write a Python Program to Check if a Number is Odd or Even?\n"
      ],
      "metadata": {
        "id": "y8ynMzICDwoS"
      }
    },
    {
      "cell_type": "code",
      "source": [
        "number=int(input(\"Enter the number : \"))\n",
        "if number%2==0:\n",
        "  print(f\"{number} is even\")\n",
        "else:\n",
        "  print(f\"{number} is odd\")"
      ],
      "metadata": {
        "colab": {
          "base_uri": "https://localhost:8080/"
        },
        "id": "3SwM7RODD4eh",
        "outputId": "195a1214-0897-41b2-e4ac-7e08cda2394e"
      },
      "execution_count": null,
      "outputs": [
        {
          "output_type": "stream",
          "name": "stdout",
          "text": [
            "Enter the number : 7\n",
            "7 is odd\n"
          ]
        }
      ]
    },
    {
      "cell_type": "markdown",
      "source": [
        "3.\tWrite a Python Program to Check Leap Year?\n"
      ],
      "metadata": {
        "id": "gRVuI4CzDzfz"
      }
    },
    {
      "cell_type": "code",
      "source": [
        "year=int(input(\"Enter the year : \"))\n",
        "if year%400==0 or (year%4==0 and year%100!=0):\n",
        "  print(f\"{year} is a leap year\")\n",
        "else:\n",
        "  print(f\"{year} is not a leap year\")"
      ],
      "metadata": {
        "colab": {
          "base_uri": "https://localhost:8080/"
        },
        "id": "9ktwwZQoD5L5",
        "outputId": "d00452a3-4da1-43a8-9567-fbdca7e0e1e2"
      },
      "execution_count": null,
      "outputs": [
        {
          "output_type": "stream",
          "name": "stdout",
          "text": [
            "Enter the year : 2000\n",
            "2000 is a leap year\n"
          ]
        }
      ]
    },
    {
      "cell_type": "markdown",
      "source": [
        "4.\tWrite a Python Program to Check Prime Number?\n"
      ],
      "metadata": {
        "id": "6X-laqUxD1P-"
      }
    },
    {
      "cell_type": "code",
      "source": [
        "number=int(input(\"Enter the number : \"))\n",
        "count=0\n",
        "for i in range(2,(number//2)+1):\n",
        "  if number%i==0:\n",
        "    count+=1\n",
        "if count==0:\n",
        "  print(f\"{number} is a prime number\")\n",
        "else:\n",
        "  print(f\"{number} is not a prime number\")"
      ],
      "metadata": {
        "colab": {
          "base_uri": "https://localhost:8080/"
        },
        "id": "kf_2rsNKD5-x",
        "outputId": "6b53f56b-5e76-49b5-ee99-8ed3c1a1ba03"
      },
      "execution_count": null,
      "outputs": [
        {
          "output_type": "stream",
          "name": "stdout",
          "text": [
            "Enter the number : 139\n",
            "139 is a prime number\n"
          ]
        }
      ]
    },
    {
      "cell_type": "markdown",
      "source": [
        "5.\tWrite a Python Program to Print all Prime Numbers in an Interval of 1-10000?"
      ],
      "metadata": {
        "id": "dGu7WgpDD2wN"
      }
    },
    {
      "cell_type": "code",
      "source": [
        "for number in range(1,1001):\n",
        "  count=0\n",
        "  for i in range(2,(number//2)+1):\n",
        "    if number%i==0:\n",
        "      count+=1\n",
        "  if count==0:\n",
        "    print(number)\n",
        "    "
      ],
      "metadata": {
        "colab": {
          "base_uri": "https://localhost:8080/"
        },
        "id": "ixdnXyikD7yJ",
        "outputId": "31392709-5bea-4374-e8ab-e52e2b51ba26"
      },
      "execution_count": 20,
      "outputs": [
        {
          "output_type": "stream",
          "name": "stdout",
          "text": [
            "1\n",
            "2\n",
            "3\n",
            "5\n",
            "7\n",
            "11\n",
            "13\n",
            "17\n",
            "19\n",
            "23\n",
            "29\n",
            "31\n",
            "37\n",
            "41\n",
            "43\n",
            "47\n",
            "53\n",
            "59\n",
            "61\n",
            "67\n",
            "71\n",
            "73\n",
            "79\n",
            "83\n",
            "89\n",
            "97\n",
            "101\n",
            "103\n",
            "107\n",
            "109\n",
            "113\n",
            "127\n",
            "131\n",
            "137\n",
            "139\n",
            "149\n",
            "151\n",
            "157\n",
            "163\n",
            "167\n",
            "173\n",
            "179\n",
            "181\n",
            "191\n",
            "193\n",
            "197\n",
            "199\n",
            "211\n",
            "223\n",
            "227\n",
            "229\n",
            "233\n",
            "239\n",
            "241\n",
            "251\n",
            "257\n",
            "263\n",
            "269\n",
            "271\n",
            "277\n",
            "281\n",
            "283\n",
            "293\n",
            "307\n",
            "311\n",
            "313\n",
            "317\n",
            "331\n",
            "337\n",
            "347\n",
            "349\n",
            "353\n",
            "359\n",
            "367\n",
            "373\n",
            "379\n",
            "383\n",
            "389\n",
            "397\n",
            "401\n",
            "409\n",
            "419\n",
            "421\n",
            "431\n",
            "433\n",
            "439\n",
            "443\n",
            "449\n",
            "457\n",
            "461\n",
            "463\n",
            "467\n",
            "479\n",
            "487\n",
            "491\n",
            "499\n",
            "503\n",
            "509\n",
            "521\n",
            "523\n",
            "541\n",
            "547\n",
            "557\n",
            "563\n",
            "569\n",
            "571\n",
            "577\n",
            "587\n",
            "593\n",
            "599\n",
            "601\n",
            "607\n",
            "613\n",
            "617\n",
            "619\n",
            "631\n",
            "641\n",
            "643\n",
            "647\n",
            "653\n",
            "659\n",
            "661\n",
            "673\n",
            "677\n",
            "683\n",
            "691\n",
            "701\n",
            "709\n",
            "719\n",
            "727\n",
            "733\n",
            "739\n",
            "743\n",
            "751\n",
            "757\n",
            "761\n",
            "769\n",
            "773\n",
            "787\n",
            "797\n",
            "809\n",
            "811\n",
            "821\n",
            "823\n",
            "827\n",
            "829\n",
            "839\n",
            "853\n",
            "857\n",
            "859\n",
            "863\n",
            "877\n",
            "881\n",
            "883\n",
            "887\n",
            "907\n",
            "911\n",
            "919\n",
            "929\n",
            "937\n",
            "941\n",
            "947\n",
            "953\n",
            "967\n",
            "971\n",
            "977\n",
            "983\n",
            "991\n",
            "997\n"
          ]
        }
      ]
    }
  ]
}